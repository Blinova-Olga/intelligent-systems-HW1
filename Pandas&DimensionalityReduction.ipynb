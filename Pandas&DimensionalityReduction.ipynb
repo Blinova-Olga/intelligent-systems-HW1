{
  "nbformat": 4,
  "nbformat_minor": 5,
  "metadata": {
    "kernelspec": {
      "display_name": "Python 3 (ipykernel)",
      "language": "python",
      "name": "python3"
    },
    "language_info": {
      "codemirror_mode": {
        "name": "ipython",
        "version": 3
      },
      "file_extension": ".py",
      "mimetype": "text/x-python",
      "name": "python",
      "nbconvert_exporter": "python",
      "pygments_lexer": "ipython3",
      "version": "3.8.11"
    },
    "colab": {
      "name": "Pandas&DimensionalityReduction.ipynb",
      "provenance": [],
      "collapsed_sections": [],
      "include_colab_link": true
    }
  },
  "cells": [
    {
      "cell_type": "markdown",
      "metadata": {
        "id": "view-in-github",
        "colab_type": "text"
      },
      "source": [
        "<a href=\"https://colab.research.google.com/github/Blinova-Olga/intelligent-systems-HW1/blob/main/Pandas%26DimensionalityReduction.ipynb\" target=\"_parent\"><img src=\"https://colab.research.google.com/assets/colab-badge.svg\" alt=\"Open In Colab\"/></a>"
      ]
    },
    {
      "cell_type": "code",
      "metadata": {
        "id": "9cc259d8"
      },
      "source": [
        "import pandas as pd\n",
        "import numpy as np"
      ],
      "id": "9cc259d8",
      "execution_count": 28,
      "outputs": []
    },
    {
      "cell_type": "markdown",
      "metadata": {
        "id": "984f836d"
      },
      "source": [
        "#### Загрузить данные в pandas по url=https://raw.githubusercontent.com/justmarkham/DAT8/master/data/chipotle.tsv"
      ],
      "id": "984f836d"
    },
    {
      "cell_type": "markdown",
      "metadata": {
        "id": "f99a23c5"
      },
      "source": [
        ""
      ],
      "id": "f99a23c5"
    },
    {
      "cell_type": "code",
      "metadata": {
        "colab": {
          "base_uri": "https://localhost:8080/"
        },
        "id": "uOcwszPaMhF8",
        "outputId": "8bde304d-0ed9-424e-feee-957538d77593"
      },
      "source": [
        "nt = pd.read_table('chipotle.tsv')\n",
        "df = pd.DataFrame(nt)\n",
        "print('Row count is:',df.shape[0])"
      ],
      "id": "uOcwszPaMhF8",
      "execution_count": null,
      "outputs": [
        {
          "output_type": "stream",
          "name": "stdout",
          "text": [
            "Row count is: 4622\n"
          ]
        }
      ]
    },
    {
      "cell_type": "code",
      "metadata": {
        "colab": {
          "base_uri": "https://localhost:8080/"
        },
        "id": "lzeqO3CkVLen",
        "outputId": "9c603823-51be-4f2b-ef96-fd958c669e4d"
      },
      "source": [
        "print(list(df.columns))"
      ],
      "id": "lzeqO3CkVLen",
      "execution_count": 17,
      "outputs": [
        {
          "output_type": "stream",
          "name": "stdout",
          "text": [
            "['order_id', 'quantity', 'item_name', 'choice_description', 'item_price']\n"
          ]
        }
      ]
    },
    {
      "cell_type": "code",
      "metadata": {
        "id": "St5dICZMSvFy",
        "colab": {
          "base_uri": "https://localhost:8080/"
        },
        "outputId": "b744340e-4a7c-47cf-8a01-fd36e63c6e1b"
      },
      "source": [
        "with_and = df[df['item_name'].str.contains(' and ')]\n",
        "with_and.item_price"
      ],
      "id": "St5dICZMSvFy",
      "execution_count": 34,
      "outputs": [
        {
          "output_type": "execute_result",
          "data": {
            "text/plain": [
              "0       $2.39 \n",
              "3       $2.39 \n",
              "10      $4.45 \n",
              "14      $4.45 \n",
              "15      $2.39 \n",
              "         ...  \n",
              "4588    $4.45 \n",
              "4596    $4.45 \n",
              "4600    $4.45 \n",
              "4605    $4.45 \n",
              "4616    $4.45 \n",
              "Name: item_price, Length: 772, dtype: object"
            ]
          },
          "metadata": {},
          "execution_count": 34
        }
      ]
    },
    {
      "cell_type": "code",
      "metadata": {
        "colab": {
          "base_uri": "https://localhost:8080/"
        },
        "id": "YVF0D8r5VGLX",
        "outputId": "18aef192-856b-4823-e507-4be0ea1b8342"
      },
      "source": [
        "df.groupby('item_name').quantity.sum()"
      ],
      "id": "YVF0D8r5VGLX",
      "execution_count": 21,
      "outputs": [
        {
          "output_type": "execute_result",
          "data": {
            "text/plain": [
              "item_name\n",
              "6 Pack Soft Drink                         55\n",
              "Barbacoa Bowl                             66\n",
              "Barbacoa Burrito                          91\n",
              "Barbacoa Crispy Tacos                     12\n",
              "Barbacoa Salad Bowl                       10\n",
              "Barbacoa Soft Tacos                       25\n",
              "Bottled Water                            211\n",
              "Bowl                                       4\n",
              "Burrito                                    6\n",
              "Canned Soda                              126\n",
              "Canned Soft Drink                        351\n",
              "Carnitas Bowl                             71\n",
              "Carnitas Burrito                          60\n",
              "Carnitas Crispy Tacos                      8\n",
              "Carnitas Salad                             1\n",
              "Carnitas Salad Bowl                        6\n",
              "Carnitas Soft Tacos                       40\n",
              "Chicken Bowl                             761\n",
              "Chicken Burrito                          591\n",
              "Chicken Crispy Tacos                      50\n",
              "Chicken Salad                              9\n",
              "Chicken Salad Bowl                       123\n",
              "Chicken Soft Tacos                       120\n",
              "Chips                                    230\n",
              "Chips and Fresh Tomato Salsa             130\n",
              "Chips and Guacamole                      506\n",
              "Chips and Mild Fresh Tomato Salsa          1\n",
              "Chips and Roasted Chili Corn Salsa        23\n",
              "Chips and Roasted Chili-Corn Salsa        18\n",
              "Chips and Tomatillo Green Chili Salsa     45\n",
              "Chips and Tomatillo Red Chili Salsa       50\n",
              "Chips and Tomatillo-Green Chili Salsa     33\n",
              "Chips and Tomatillo-Red Chili Salsa       25\n",
              "Crispy Tacos                               2\n",
              "Izze                                      20\n",
              "Nantucket Nectar                          29\n",
              "Salad                                      2\n",
              "Side of Chips                            110\n",
              "Steak Bowl                               221\n",
              "Steak Burrito                            386\n",
              "Steak Crispy Tacos                        36\n",
              "Steak Salad                                4\n",
              "Steak Salad Bowl                          31\n",
              "Steak Soft Tacos                          56\n",
              "Veggie Bowl                               87\n",
              "Veggie Burrito                            97\n",
              "Veggie Crispy Tacos                        1\n",
              "Veggie Salad                               6\n",
              "Veggie Salad Bowl                         18\n",
              "Veggie Soft Tacos                          8\n",
              "Name: quantity, dtype: int64"
            ]
          },
          "metadata": {},
          "execution_count": 21
        }
      ]
    },
    {
      "cell_type": "markdown",
      "metadata": {
        "id": "1a64282e"
      },
      "source": [
        "#### 1. Вывести: кол-во наблюдений в датасете\n",
        "#### 2. Вывести названия столбцов\n",
        "#### 3. Определить самую частую позицию (item) в заказе \n",
        "#### 4. Построить гистрограмму частоты заказов по позициям (item )\n",
        "#### 5. Измените тип переменной item_price c с помощью лямбды функции\n",
        "#### 6. Построить гистограмму кол-во денег заработанных по каждой позиции (item)\n",
        "#### 7. Средняя сумма заказа? (минимум 2 способа)\n",
        "#### 8. Выведите среднее, минимальное и максимальное, медианное значения позиций в заказе\n",
        "#### 9. Определить статистику заказов стейков, а также статистику заказов прожарки.\n",
        "#### 10. Добавить новый столбец цен на каждую позицию в заказе в рублях.\n",
        "#### 11. Сгруппировать заказы по входящим позициям в него. Отдельно сгруппировать по стейкам во всех видах прожарках.\n",
        "#### 12. Определить цену по каждой позиции в отдельности. \n"
      ],
      "id": "1a64282e"
    },
    {
      "cell_type": "code",
      "metadata": {
        "id": "965cfec3"
      },
      "source": [
        ""
      ],
      "id": "965cfec3",
      "execution_count": null,
      "outputs": []
    },
    {
      "cell_type": "markdown",
      "metadata": {
        "id": "cf725ec6"
      },
      "source": [
        "### Алгоритмы уменьшения размерности \n",
        "\n",
        "#### повторить эксперименты в главе 5.1 Qalitative Comparison of Multiple Algorithms статьи статьи UMAP: Uniform Manifold\n",
        "#### Approximation and Projection for Dimension Reduction (https://arxiv.org/pdf/1802.03426.pdf)\n",
        "\n",
        "#### необходимо воспроизвести все графики данной главы, соотнести выводы из статьи с вашими результатами."
      ],
      "id": "cf725ec6"
    },
    {
      "cell_type": "code",
      "metadata": {
        "id": "0e3ac869"
      },
      "source": [
        ""
      ],
      "id": "0e3ac869",
      "execution_count": null,
      "outputs": []
    }
  ]
}